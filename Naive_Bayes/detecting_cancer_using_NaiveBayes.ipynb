{
 "cells": [
  {
   "cell_type": "code",
   "execution_count": 10,
   "id": "85bbfaed",
   "metadata": {},
   "outputs": [],
   "source": [
    "import pandas as pd\n",
    "import numpy as np\n",
    "import matplotlib.pyplot as plt\n",
    "import seaborn as sns"
   ]
  },
  {
   "cell_type": "code",
   "execution_count": 12,
   "id": "37d5f947",
   "metadata": {},
   "outputs": [
    {
     "data": {
      "text/html": [
       "<div>\n",
       "<style scoped>\n",
       "    .dataframe tbody tr th:only-of-type {\n",
       "        vertical-align: middle;\n",
       "    }\n",
       "\n",
       "    .dataframe tbody tr th {\n",
       "        vertical-align: top;\n",
       "    }\n",
       "\n",
       "    .dataframe thead th {\n",
       "        text-align: right;\n",
       "    }\n",
       "</style>\n",
       "<table border=\"1\" class=\"dataframe\">\n",
       "  <thead>\n",
       "    <tr style=\"text-align: right;\">\n",
       "      <th></th>\n",
       "      <th>mean_radius</th>\n",
       "      <th>mean_texture</th>\n",
       "      <th>mean_perimeter</th>\n",
       "      <th>mean_area</th>\n",
       "      <th>mean_smoothness</th>\n",
       "      <th>diagnosis</th>\n",
       "    </tr>\n",
       "  </thead>\n",
       "  <tbody>\n",
       "    <tr>\n",
       "      <th>0</th>\n",
       "      <td>17.99</td>\n",
       "      <td>10.38</td>\n",
       "      <td>122.80</td>\n",
       "      <td>1001.0</td>\n",
       "      <td>0.11840</td>\n",
       "      <td>0</td>\n",
       "    </tr>\n",
       "    <tr>\n",
       "      <th>1</th>\n",
       "      <td>20.57</td>\n",
       "      <td>17.77</td>\n",
       "      <td>132.90</td>\n",
       "      <td>1326.0</td>\n",
       "      <td>0.08474</td>\n",
       "      <td>0</td>\n",
       "    </tr>\n",
       "    <tr>\n",
       "      <th>2</th>\n",
       "      <td>19.69</td>\n",
       "      <td>21.25</td>\n",
       "      <td>130.00</td>\n",
       "      <td>1203.0</td>\n",
       "      <td>0.10960</td>\n",
       "      <td>0</td>\n",
       "    </tr>\n",
       "    <tr>\n",
       "      <th>3</th>\n",
       "      <td>11.42</td>\n",
       "      <td>20.38</td>\n",
       "      <td>77.58</td>\n",
       "      <td>386.1</td>\n",
       "      <td>0.14250</td>\n",
       "      <td>0</td>\n",
       "    </tr>\n",
       "    <tr>\n",
       "      <th>4</th>\n",
       "      <td>20.29</td>\n",
       "      <td>14.34</td>\n",
       "      <td>135.10</td>\n",
       "      <td>1297.0</td>\n",
       "      <td>0.10030</td>\n",
       "      <td>0</td>\n",
       "    </tr>\n",
       "  </tbody>\n",
       "</table>\n",
       "</div>"
      ],
      "text/plain": [
       "   mean_radius  mean_texture  mean_perimeter  mean_area  mean_smoothness  \\\n",
       "0        17.99         10.38          122.80     1001.0          0.11840   \n",
       "1        20.57         17.77          132.90     1326.0          0.08474   \n",
       "2        19.69         21.25          130.00     1203.0          0.10960   \n",
       "3        11.42         20.38           77.58      386.1          0.14250   \n",
       "4        20.29         14.34          135.10     1297.0          0.10030   \n",
       "\n",
       "   diagnosis  \n",
       "0          0  \n",
       "1          0  \n",
       "2          0  \n",
       "3          0  \n",
       "4          0  "
      ]
     },
     "execution_count": 12,
     "metadata": {},
     "output_type": "execute_result"
    }
   ],
   "source": [
    "data = pd.read_csv(r'D:\\NEU\\Năm 3\\ML\\GitHub ML\\Machine-Learning-1\\Naive Bayes\\ung thư.csv')\n",
    "data.head()"
   ]
  },
  {
   "cell_type": "code",
   "execution_count": 6,
   "id": "71c0af83",
   "metadata": {},
   "outputs": [
    {
     "name": "stdout",
     "output_type": "stream",
     "text": [
      "<class 'pandas.core.frame.DataFrame'>\n",
      "RangeIndex: 569 entries, 0 to 568\n",
      "Data columns (total 6 columns):\n",
      " #   Column           Non-Null Count  Dtype  \n",
      "---  ------           --------------  -----  \n",
      " 0   mean_radius      569 non-null    float64\n",
      " 1   mean_texture     569 non-null    float64\n",
      " 2   mean_perimeter   569 non-null    float64\n",
      " 3   mean_area        569 non-null    float64\n",
      " 4   mean_smoothness  569 non-null    float64\n",
      " 5   diagnosis        569 non-null    int64  \n",
      "dtypes: float64(5), int64(1)\n",
      "memory usage: 26.8 KB\n"
     ]
    }
   ],
   "source": [
    "data.info()"
   ]
  },
  {
   "cell_type": "code",
   "execution_count": 9,
   "id": "38e971c0",
   "metadata": {},
   "outputs": [
    {
     "data": {
      "text/plain": [
       "array([0, 1], dtype=int64)"
      ]
     },
     "execution_count": 9,
     "metadata": {},
     "output_type": "execute_result"
    }
   ],
   "source": [
    "data.diagnosis.unique()"
   ]
  },
  {
   "cell_type": "markdown",
   "id": "1f324d87",
   "metadata": {},
   "source": [
    "# Basic EDA"
   ]
  },
  {
   "cell_type": "code",
   "execution_count": 13,
   "id": "b0ffe39e",
   "metadata": {},
   "outputs": [
    {
     "data": {
      "text/plain": [
       "<AxesSubplot:>"
      ]
     },
     "execution_count": 13,
     "metadata": {},
     "output_type": "execute_result"
    },
    {
     "data": {
      "image/png": "[encoded data removed]",
      "text/plain": [
       "<Figure size 640x480 with 1 Axes>"
      ]
     },
     "metadata": {},
     "output_type": "display_data"
    }
   ],
   "source": [
    "data['diagnosis'].hist()"
   ]
  },
  {
   "cell_type": "markdown",
   "id": "8fe753ea",
   "metadata": {},
   "source": [
    "**Check if features are independent**\n",
    "\n",
    "- We know that to apply Naive Bayes Classifier, features must be independent of each other .\n",
    "\n",
    "- WHY ?\n",
    "\n",
    "- Because in Naive Bayes Classifier the assumption is the features are independent"
   ]
  },
  {
   "cell_type": "code",
   "execution_count": 14,
   "id": "33613136",
   "metadata": {},
   "outputs": [
    {
     "data": {
      "text/plain": [
       "<AxesSubplot:>"
      ]
     },
     "execution_count": 14,
     "metadata": {},
     "output_type": "execute_result"
    },
    {
     "data": {
      "image/png": "[encoded data removed]",
      "text/plain": [
       "<Figure size 640x480 with 2 Axes>"
      ]
     },
     "metadata": {},
     "output_type": "display_data"
    }
   ],
   "source": [
    "corr = data.iloc[:,:-1].corr(method='pearson')\n",
    "cmap = sns.diverging_palette(250,354,80,60,center='dark',as_cmap=True)\n",
    "sns.heatmap(corr,vmax=1,vmin = -0.5, cmap=cmap, square=True,linewidths=0.2)"
   ]
  },
  {
   "cell_type": "markdown",
   "id": "e2da0487",
   "metadata": {},
   "source": [
    "**It is obvious that we should not have area and radius and perimeter in the same data(correlation is approximate 1). Should take only one feature in these 3 features to bring to the model**"
   ]
  },
  {
   "cell_type": "code",
   "execution_count": 17,
   "id": "1eed7313",
   "metadata": {},
   "outputs": [
    {
     "data": {
      "text/html": [
       "<div>\n",
       "<style scoped>\n",
       "    .dataframe tbody tr th:only-of-type {\n",
       "        vertical-align: middle;\n",
       "    }\n",
       "\n",
       "    .dataframe tbody tr th {\n",
       "        vertical-align: top;\n",
       "    }\n",
       "\n",
       "    .dataframe thead th {\n",
       "        text-align: right;\n",
       "    }\n",
       "</style>\n",
       "<table border=\"1\" class=\"dataframe\">\n",
       "  <thead>\n",
       "    <tr style=\"text-align: right;\">\n",
       "      <th></th>\n",
       "      <th>mean_radius</th>\n",
       "      <th>mean_texture</th>\n",
       "      <th>mean_smoothness</th>\n",
       "      <th>diagnosis</th>\n",
       "    </tr>\n",
       "  </thead>\n",
       "  <tbody>\n",
       "    <tr>\n",
       "      <th>0</th>\n",
       "      <td>17.99</td>\n",
       "      <td>10.38</td>\n",
       "      <td>0.11840</td>\n",
       "      <td>0</td>\n",
       "    </tr>\n",
       "    <tr>\n",
       "      <th>1</th>\n",
       "      <td>20.57</td>\n",
       "      <td>17.77</td>\n",
       "      <td>0.08474</td>\n",
       "      <td>0</td>\n",
       "    </tr>\n",
       "    <tr>\n",
       "      <th>2</th>\n",
       "      <td>19.69</td>\n",
       "      <td>21.25</td>\n",
       "      <td>0.10960</td>\n",
       "      <td>0</td>\n",
       "    </tr>\n",
       "    <tr>\n",
       "      <th>3</th>\n",
       "      <td>11.42</td>\n",
       "      <td>20.38</td>\n",
       "      <td>0.14250</td>\n",
       "      <td>0</td>\n",
       "    </tr>\n",
       "    <tr>\n",
       "      <th>4</th>\n",
       "      <td>20.29</td>\n",
       "      <td>14.34</td>\n",
       "      <td>0.10030</td>\n",
       "      <td>0</td>\n",
       "    </tr>\n",
       "    <tr>\n",
       "      <th>5</th>\n",
       "      <td>12.45</td>\n",
       "      <td>15.70</td>\n",
       "      <td>0.12780</td>\n",
       "      <td>0</td>\n",
       "    </tr>\n",
       "    <tr>\n",
       "      <th>6</th>\n",
       "      <td>18.25</td>\n",
       "      <td>19.98</td>\n",
       "      <td>0.09463</td>\n",
       "      <td>0</td>\n",
       "    </tr>\n",
       "    <tr>\n",
       "      <th>7</th>\n",
       "      <td>13.71</td>\n",
       "      <td>20.83</td>\n",
       "      <td>0.11890</td>\n",
       "      <td>0</td>\n",
       "    </tr>\n",
       "    <tr>\n",
       "      <th>8</th>\n",
       "      <td>13.00</td>\n",
       "      <td>21.82</td>\n",
       "      <td>0.12730</td>\n",
       "      <td>0</td>\n",
       "    </tr>\n",
       "    <tr>\n",
       "      <th>9</th>\n",
       "      <td>12.46</td>\n",
       "      <td>24.04</td>\n",
       "      <td>0.11860</td>\n",
       "      <td>0</td>\n",
       "    </tr>\n",
       "  </tbody>\n",
       "</table>\n",
       "</div>"
      ],
      "text/plain": [
       "   mean_radius  mean_texture  mean_smoothness  diagnosis\n",
       "0        17.99         10.38          0.11840          0\n",
       "1        20.57         17.77          0.08474          0\n",
       "2        19.69         21.25          0.10960          0\n",
       "3        11.42         20.38          0.14250          0\n",
       "4        20.29         14.34          0.10030          0\n",
       "5        12.45         15.70          0.12780          0\n",
       "6        18.25         19.98          0.09463          0\n",
       "7        13.71         20.83          0.11890          0\n",
       "8        13.00         21.82          0.12730          0\n",
       "9        12.46         24.04          0.11860          0"
      ]
     },
     "execution_count": 17,
     "metadata": {},
     "output_type": "execute_result"
    }
   ],
   "source": [
    "# Keep the mean radius and remove two others\n",
    "data = data[['mean_radius','mean_texture','mean_smoothness','diagnosis']]\n",
    "data.head(10)"
   ]
  },
  {
   "cell_type": "code",
   "execution_count": 29,
   "id": "6e39cc82",
   "metadata": {},
   "outputs": [
    {
     "data": {
      "text/plain": [
       "<AxesSubplot:xlabel='mean_texture', ylabel='Count'>"
      ]
     },
     "execution_count": 29,
     "metadata": {},
     "output_type": "execute_result"
    },
    {
     "data": {
      "image/png": "[encoded data removed]",
      "text/plain": [
       "<Figure size 1800x600 with 3 Axes>"
      ]
     },
     "metadata": {},
     "output_type": "display_data"
    }
   ],
   "source": [
    "fig,axes = plt.subplots(1,3,figsize = (18,6), sharey=True)\n",
    "sns.histplot(data, ax=axes[0], x='mean_radius',kde=True,color='r')\n",
    "sns.histplot(data, ax=axes[1], x='mean_smoothness',kde=True,color='b')\n",
    "sns.histplot(data, ax=axes[2], x='mean_texture',kde=True,color='g')"
   ]
  },
  {
   "cell_type": "markdown",
   "id": "dabdc186",
   "metadata": {},
   "source": [
    "**Nhận xét : mean_texture and mean_smoothness and mean_radius almost have the normal distribution shape so we should fit a normal distribution to these features**"
   ]
  },
  {
   "cell_type": "markdown",
   "id": "985cc08f",
   "metadata": {},
   "source": [
    "**REMIND NAIVE BAYES CLASSIFIER: **\n",
    "\n",
    "$${decisionGroup} = arg max_c P(X|c).P(c) = arg max_c (likelihood . prior)$$ "
   ]
  },
  {
   "cell_type": "markdown",
   "id": "90d40481",
   "metadata": {},
   "source": [
    "# Calculate P(Y=y) for all possible y"
   ]
  },
  {
   "cell_type": "code",
   "execution_count": 47,
   "id": "a2698bc7",
   "metadata": {},
   "outputs": [],
   "source": [
    "def calculate_prior(df,Y):\n",
    "    classes = sorted(list(df[Y].unique()))\n",
    "    prior = []\n",
    "    for i in classes:\n",
    "        prior.append(len(df[df[Y]==i])/len(df))\n",
    "    return prior"
   ]
  },
  {
   "cell_type": "markdown",
   "id": "8ab5719b",
   "metadata": {},
   "source": [
    "# Approach 1: Calculate P(X=x|Y=y) using Gaussian dist"
   ]
  },
  {
   "cell_type": "code",
   "execution_count": 48,
   "id": "cfb61395",
   "metadata": {},
   "outputs": [],
   "source": [
    "def calculate_likelihood_gaussian(df,feat_name,feat_val,Y,label):\n",
    "    feat = list(df.columns)\n",
    "    df = df[df[Y]==label]  # Taking only data point where df[Y] equal label\n",
    "    mean, std = df[feat_name].mean(), df[feat_name].std()\n",
    "    p_x_given_y = (1/(np.sqrt(2*np.pi)*std)) * np.exp(-((feat_val - mean)**2 / (2 * std**2)))\n",
    "    return p_x_given_y"
   ]
  },
  {
   "cell_type": "markdown",
   "id": "a46ec3dd",
   "metadata": {},
   "source": [
    "## Calculate P(X=x1|Y=y).P(X=x2|Y=y)...P(X=xn|Y=y) * P(Y=y) for all y and find the maxium"
   ]
  },
  {
   "cell_type": "code",
   "execution_count": 49,
   "id": "f1185874",
   "metadata": {},
   "outputs": [],
   "source": [
    "def naive_bayes_gaussian(df,X,Y):\n",
    "    features = list(df.columns)[:-1]\n",
    "    \n",
    "    # calculate prior\n",
    "    prior = calculate_prior(df,Y)\n",
    "    \n",
    "    Y_pred = []\n",
    "    # loop over every data sample\n",
    "    for x in X:\n",
    "        # calculate likelihood\n",
    "        labels = sorted(list(df[Y].unique()))\n",
    "        likelihood = [1] * len(labels)\n",
    "        for j in range(len(labels)): # travel every class\n",
    "            for i in range(len(features)):# travel every feature\n",
    "                likelihood[j] *= calculate_likelihood_gaussian(df,features[i],x[i],Y,labels[j])\n",
    "        \n",
    "        # calculate posterior probability (numerator only)\n",
    "        post_prob = [1] * len(labels)\n",
    "        for j in range(len(labels)): \n",
    "            post_prob[j] = likelihood[j] * prior[j] \n",
    "        \n",
    "        Y_pred.append(np.argmax(post_prob))\n",
    "    \n",
    "    return np.array(Y_pred)"
   ]
  },
  {
   "cell_type": "markdown",
   "id": "bb9b3cea",
   "metadata": {},
   "source": [
    "## Test Gaussian model"
   ]
  },
  {
   "cell_type": "code",
   "execution_count": 50,
   "id": "e2ec73c4",
   "metadata": {},
   "outputs": [
    {
     "name": "stdout",
     "output_type": "stream",
     "text": [
      "[[36  4]\n",
      " [ 0 74]]\n",
      "0.9736842105263158\n"
     ]
    }
   ],
   "source": [
    "from sklearn.model_selection import train_test_split\n",
    "train, test = train_test_split(data,test_size=0.2, random_state=41)\n",
    "\n",
    "X_test = test.iloc[:,:-1].values\n",
    "Y_test = test.iloc[:,-1].values\n",
    "Y_pred = naive_bayes_gaussian(train,X=X_test,Y='diagnosis')\n",
    "\n",
    "from sklearn.metrics import confusion_matrix, f1_score\n",
    "print(confusion_matrix(Y_test, Y_pred))\n",
    "print(f1_score(Y_test, Y_pred))"
   ]
  },
  {
   "cell_type": "markdown",
   "id": "ae6247d0",
   "metadata": {},
   "source": [
    "# Approach 2: Calculate P(X=x|Y=y) categorically"
   ]
  },
  {
   "cell_type": "code",
   "execution_count": 51,
   "id": "48c4e09d",
   "metadata": {},
   "outputs": [
    {
     "data": {
      "text/html": [
       "<div>\n",
       "<style scoped>\n",
       "    .dataframe tbody tr th:only-of-type {\n",
       "        vertical-align: middle;\n",
       "    }\n",
       "\n",
       "    .dataframe tbody tr th {\n",
       "        vertical-align: top;\n",
       "    }\n",
       "\n",
       "    .dataframe thead th {\n",
       "        text-align: right;\n",
       "    }\n",
       "</style>\n",
       "<table border=\"1\" class=\"dataframe\">\n",
       "  <thead>\n",
       "    <tr style=\"text-align: right;\">\n",
       "      <th></th>\n",
       "      <th>cat_mean_radius</th>\n",
       "      <th>cat_mean_texture</th>\n",
       "      <th>cat_mean_smoothness</th>\n",
       "      <th>diagnosis</th>\n",
       "    </tr>\n",
       "  </thead>\n",
       "  <tbody>\n",
       "    <tr>\n",
       "      <th>0</th>\n",
       "      <td>1</td>\n",
       "      <td>0</td>\n",
       "      <td>1</td>\n",
       "      <td>0</td>\n",
       "    </tr>\n",
       "    <tr>\n",
       "      <th>1</th>\n",
       "      <td>1</td>\n",
       "      <td>0</td>\n",
       "      <td>0</td>\n",
       "      <td>0</td>\n",
       "    </tr>\n",
       "    <tr>\n",
       "      <th>2</th>\n",
       "      <td>1</td>\n",
       "      <td>1</td>\n",
       "      <td>1</td>\n",
       "      <td>0</td>\n",
       "    </tr>\n",
       "    <tr>\n",
       "      <th>3</th>\n",
       "      <td>0</td>\n",
       "      <td>1</td>\n",
       "      <td>2</td>\n",
       "      <td>0</td>\n",
       "    </tr>\n",
       "    <tr>\n",
       "      <th>4</th>\n",
       "      <td>1</td>\n",
       "      <td>0</td>\n",
       "      <td>1</td>\n",
       "      <td>0</td>\n",
       "    </tr>\n",
       "    <tr>\n",
       "      <th>5</th>\n",
       "      <td>0</td>\n",
       "      <td>0</td>\n",
       "      <td>2</td>\n",
       "      <td>0</td>\n",
       "    </tr>\n",
       "    <tr>\n",
       "      <th>6</th>\n",
       "      <td>1</td>\n",
       "      <td>1</td>\n",
       "      <td>1</td>\n",
       "      <td>0</td>\n",
       "    </tr>\n",
       "    <tr>\n",
       "      <th>7</th>\n",
       "      <td>0</td>\n",
       "      <td>1</td>\n",
       "      <td>1</td>\n",
       "      <td>0</td>\n",
       "    </tr>\n",
       "    <tr>\n",
       "      <th>8</th>\n",
       "      <td>0</td>\n",
       "      <td>1</td>\n",
       "      <td>2</td>\n",
       "      <td>0</td>\n",
       "    </tr>\n",
       "    <tr>\n",
       "      <th>9</th>\n",
       "      <td>0</td>\n",
       "      <td>1</td>\n",
       "      <td>1</td>\n",
       "      <td>0</td>\n",
       "    </tr>\n",
       "  </tbody>\n",
       "</table>\n",
       "</div>"
      ],
      "text/plain": [
       "  cat_mean_radius cat_mean_texture cat_mean_smoothness  diagnosis\n",
       "0               1                0                   1          0\n",
       "1               1                0                   0          0\n",
       "2               1                1                   1          0\n",
       "3               0                1                   2          0\n",
       "4               1                0                   1          0\n",
       "5               0                0                   2          0\n",
       "6               1                1                   1          0\n",
       "7               0                1                   1          0\n",
       "8               0                1                   2          0\n",
       "9               0                1                   1          0"
      ]
     },
     "execution_count": 51,
     "metadata": {},
     "output_type": "execute_result"
    }
   ],
   "source": [
    "data['cat_mean_radius'] = pd.cut(data['mean_radius'].values, bins = 3, labels = [0,1,2])\n",
    "data['cat_mean_texture'] = pd.cut(data['mean_texture'].values, bins = 3, labels = [0,1,2])\n",
    "data['cat_mean_smoothness'] = pd.cut(data['mean_smoothness'].values, bins = 3, labels = [0,1,2])\n",
    "\n",
    "data = data.drop(columns = ['mean_radius','mean_texture','mean_smoothness'])\n",
    "data = data[['cat_mean_radius','cat_mean_texture','cat_mean_smoothness','diagnosis']]\n",
    "data.head(10)"
   ]
  },
  {
   "cell_type": "markdown",
   "id": "666ce2f3",
   "metadata": {},
   "source": [
    "## Calculate likelihood categorical"
   ]
  },
  {
   "cell_type": "code",
   "execution_count": 52,
   "id": "abf18ad0",
   "metadata": {},
   "outputs": [],
   "source": [
    "def calculate_likelihood_categorical(df,feat_name,feat_val,Y,label):\n",
    "    feat = list(df.columns)\n",
    "    df = df[df[Y]==label]\n",
    "    p_x_given_y = len(df[df[feat_name]==feat_val])/len(df)\n",
    "    return p_x_given_y"
   ]
  },
  {
   "cell_type": "markdown",
   "id": "1f6ed498",
   "metadata": {},
   "source": [
    "## Calculate P(X=x1|Y=y).P(X=x2|Y=y)...P(X=xn|Y=y) * P(Y=y) for all y and find the maxium¶"
   ]
  },
  {
   "cell_type": "code",
   "execution_count": 57,
   "id": "45407570",
   "metadata": {},
   "outputs": [],
   "source": [
    "def naive_bayes_categorical(df,X,Y):\n",
    "    features = list(df.columns)[:-1]\n",
    "    \n",
    "    # calculate prior\n",
    "    prior = calculate_prior(df,Y)\n",
    "    \n",
    "    Y_pred = []\n",
    "    # loop over every data sample\n",
    "    for x in X:\n",
    "        labels = sorted(list(df[Y].unique()))\n",
    "        likelihood = [1] * len(labels)\n",
    "        for j in range(len(labels)):\n",
    "            for i in range(len(features)):\n",
    "                likelihood[j] *= calculate_likelihood_categorical(df,features[i],x[i],Y,labels[j])\n",
    "                \n",
    "        # calculate posterior probability (numerator only)\n",
    "        post_prob = [1] * len(labels)\n",
    "        for j in range(len(labels)):\n",
    "            post_prob[j] = likelihood[j] * prior[j]\n",
    "        \n",
    "        Y_pred.append(np.argmax(post_prob))\n",
    "    \n",
    "    return np.array(Y_pred)"
   ]
  },
  {
   "cell_type": "markdown",
   "id": "da0e2604",
   "metadata": {},
   "source": [
    "## Test Categorical Model"
   ]
  },
  {
   "cell_type": "code",
   "execution_count": 59,
   "id": "c0c6fd1c",
   "metadata": {},
   "outputs": [
    {
     "name": "stdout",
     "output_type": "stream",
     "text": [
      "[[38  2]\n",
      " [ 5 69]]\n",
      "0.9517241379310345\n"
     ]
    }
   ],
   "source": [
    "from sklearn.model_selection import train_test_split\n",
    "train, test = train_test_split(data,test_size=0.2, random_state=41)\n",
    "\n",
    "X_test = test.iloc[:,:-1].values\n",
    "Y_test = test.iloc[:,-1].values\n",
    "Y_pred = naive_bayes_categorical(train,X=X_test,Y='diagnosis')\n",
    "\n",
    "from sklearn.metrics import confusion_matrix, f1_score\n",
    "print(confusion_matrix(Y_test, Y_pred))\n",
    "print(f1_score(Y_test, Y_pred))"
   ]
  }
 ],
 "metadata": {
  "kernelspec": {
   "display_name": "Python 3 (ipykernel)",
   "language": "python",
   "name": "python3"
  },
  "language_info": {
   "codemirror_mode": {
    "name": "ipython",
    "version": 3
   },
   "file_extension": ".py",
   "mimetype": "text/x-python",
   "name": "python",
   "nbconvert_exporter": "python",
   "pygments_lexer": "ipython3",
   "version": "3.9.13"
  },
  "toc": {
   "base_numbering": 1,
   "nav_menu": {},
   "number_sections": true,
   "sideBar": true,
   "skip_h1_title": false,
   "title_cell": "Table of Contents",
   "title_sidebar": "Contents",
   "toc_cell": false,
   "toc_position": {},
   "toc_section_display": true,
   "toc_window_display": false
  }
 },
 "nbformat": 4,
 "nbformat_minor": 5
}
