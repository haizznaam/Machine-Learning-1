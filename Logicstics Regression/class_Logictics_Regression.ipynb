{
 "cells": [
  {
   "cell_type": "markdown",
   "id": "8a754f9b",
   "metadata": {},
   "source": [
    "# Train model"
   ]
  },
  {
   "cell_type": "code",
   "execution_count": 258,
   "id": "488ffff1",
   "metadata": {},
   "outputs": [],
   "source": [
    "import pandas as pd\n",
    "import numpy as np\n",
    "\n",
    "# Import train_data\n",
    "train_data = pd.read_csv(r'D:\\NEU\\Năm 3\\ML\\Data\\ds1_train.csv')\n",
    "X_train = train_data[['x_1','x_2']].values\n",
    "y_train = train_data['y'].values.reshape((-1, 1))\n",
    "\n",
    "\n",
    "class LogisticRegression:\n",
    "    def _sigmoid(self, x):\n",
    "        return 1 / (1 + np.exp(-x))\n",
    "\n",
    "    def _transform(self, X):\n",
    "        ones = X.shape[0]\n",
    "        self._X = np.c_[np.ones((ones,1)), X]\n",
    "        return\n",
    "\n",
    "    def fit(self,X,y,learning_rate=0.01,num_iterations=5000):\n",
    "        self._transform(X)\n",
    "        self._weight = np.zeros((self._X.shape[1],1))\n",
    "\n",
    "        for _ in range(num_iterations):\n",
    "            z = self._X @ self._weight\n",
    "            y_pred = self._sigmoid(z)\n",
    "            gradient = (self._X.T @ (y_pred - y))\n",
    "            self._weight -= learning_rate * gradient\n",
    "\n",
    "    def predict_prob(self, X):\n",
    "        self._transform(X)\n",
    "\n",
    "        prob_estimated = self._sigmoid(self._X @ self._weight)\n",
    "        return prob_estimated\n",
    "\n",
    "    \n",
    "    def predict(self, X, threshold=0.5):\n",
    "        prob_estimated = self.predict_prob(X)\n",
    "\n",
    "        classification_predicted = np.zeros(X.shape[0])  \n",
    "        classification_predicted[np.where(prob_estimated > threshold)[0]] = 1\n",
    "\n",
    "        return classification_predicted\n",
    "\n",
    "    \n",
    "    def accuracy(self, X, y):\n",
    "        y_predict = self.predict(X, threshold=0.5)\n",
    "        num_matches = (y_predict == y.squeeze()).sum()  \n",
    "        total_obs = y.shape[0]\n",
    "        return num_matches / total_obs\n",
    "    \n",
    "    def plot_data(self,X):\n",
    "        group = self.predict(X,threshold=0.5)\n",
    "        class_0 = group[group==0]\n",
    "        class_1 = group[group==1]\n",
    "        \n",
    "        plt.plot(class_0,'ro',label='0')\n",
    "        plt.plot(class_1,'bo',label='1')\n",
    "        plt.legend()\n",
    "        plt.show()"
   ]
  },
  {
   "cell_type": "code",
   "execution_count": 259,
   "id": "b2b0aeb6",
   "metadata": {},
   "outputs": [
    {
     "name": "stderr",
     "output_type": "stream",
     "text": [
      "C:\\Users\\Hải Nam\\AppData\\Local\\Temp\\ipykernel_2648\\1983158992.py:12: RuntimeWarning: overflow encountered in exp\n",
      "  return 1 / (1 + np.exp(-x))\n"
     ]
    }
   ],
   "source": [
    "model = LogisticRegression()\n",
    "model.fit(X_train,y_train)"
   ]
  },
  {
   "cell_type": "code",
   "execution_count": 260,
   "id": "55005456",
   "metadata": {},
   "outputs": [
    {
     "name": "stderr",
     "output_type": "stream",
     "text": [
      "C:\\Users\\Hải Nam\\AppData\\Local\\Temp\\ipykernel_2648\\1983158992.py:12: RuntimeWarning: overflow encountered in exp\n",
      "  return 1 / (1 + np.exp(-x))\n"
     ]
    },
    {
     "data": {
      "text/plain": [
       "0.8225"
      ]
     },
     "execution_count": 260,
     "metadata": {},
     "output_type": "execute_result"
    }
   ],
   "source": [
    "model.accuracy(X_train,y_train)"
   ]
  },
  {
   "cell_type": "markdown",
   "id": "1e329f72",
   "metadata": {},
   "source": [
    "# Test model"
   ]
  },
  {
   "cell_type": "code",
   "execution_count": 261,
   "id": "101fba78",
   "metadata": {},
   "outputs": [
    {
     "data": {
      "text/html": [
       "<div>\n",
       "<style scoped>\n",
       "    .dataframe tbody tr th:only-of-type {\n",
       "        vertical-align: middle;\n",
       "    }\n",
       "\n",
       "    .dataframe tbody tr th {\n",
       "        vertical-align: top;\n",
       "    }\n",
       "\n",
       "    .dataframe thead th {\n",
       "        text-align: right;\n",
       "    }\n",
       "</style>\n",
       "<table border=\"1\" class=\"dataframe\">\n",
       "  <thead>\n",
       "    <tr style=\"text-align: right;\">\n",
       "      <th></th>\n",
       "      <th>x_1</th>\n",
       "      <th>x_2</th>\n",
       "      <th>y</th>\n",
       "    </tr>\n",
       "  </thead>\n",
       "  <tbody>\n",
       "    <tr>\n",
       "      <th>0</th>\n",
       "      <td>2.177396</td>\n",
       "      <td>78.630076</td>\n",
       "      <td>0.0</td>\n",
       "    </tr>\n",
       "    <tr>\n",
       "      <th>1</th>\n",
       "      <td>3.952131</td>\n",
       "      <td>123.541573</td>\n",
       "      <td>0.0</td>\n",
       "    </tr>\n",
       "    <tr>\n",
       "      <th>2</th>\n",
       "      <td>3.351176</td>\n",
       "      <td>47.752517</td>\n",
       "      <td>0.0</td>\n",
       "    </tr>\n",
       "    <tr>\n",
       "      <th>3</th>\n",
       "      <td>2.074934</td>\n",
       "      <td>26.997730</td>\n",
       "      <td>0.0</td>\n",
       "    </tr>\n",
       "    <tr>\n",
       "      <th>4</th>\n",
       "      <td>3.579775</td>\n",
       "      <td>226.703779</td>\n",
       "      <td>0.0</td>\n",
       "    </tr>\n",
       "    <tr>\n",
       "      <th>...</th>\n",
       "      <td>...</td>\n",
       "      <td>...</td>\n",
       "      <td>...</td>\n",
       "    </tr>\n",
       "    <tr>\n",
       "      <th>95</th>\n",
       "      <td>3.795618</td>\n",
       "      <td>11.708285</td>\n",
       "      <td>1.0</td>\n",
       "    </tr>\n",
       "    <tr>\n",
       "      <th>96</th>\n",
       "      <td>3.953480</td>\n",
       "      <td>7.320390</td>\n",
       "      <td>1.0</td>\n",
       "    </tr>\n",
       "    <tr>\n",
       "      <th>97</th>\n",
       "      <td>3.863524</td>\n",
       "      <td>26.396698</td>\n",
       "      <td>1.0</td>\n",
       "    </tr>\n",
       "    <tr>\n",
       "      <th>98</th>\n",
       "      <td>4.917294</td>\n",
       "      <td>102.078713</td>\n",
       "      <td>1.0</td>\n",
       "    </tr>\n",
       "    <tr>\n",
       "      <th>99</th>\n",
       "      <td>3.319729</td>\n",
       "      <td>12.761634</td>\n",
       "      <td>1.0</td>\n",
       "    </tr>\n",
       "  </tbody>\n",
       "</table>\n",
       "<p>100 rows × 3 columns</p>\n",
       "</div>"
      ],
      "text/plain": [
       "         x_1         x_2    y\n",
       "0   2.177396   78.630076  0.0\n",
       "1   3.952131  123.541573  0.0\n",
       "2   3.351176   47.752517  0.0\n",
       "3   2.074934   26.997730  0.0\n",
       "4   3.579775  226.703779  0.0\n",
       "..       ...         ...  ...\n",
       "95  3.795618   11.708285  1.0\n",
       "96  3.953480    7.320390  1.0\n",
       "97  3.863524   26.396698  1.0\n",
       "98  4.917294  102.078713  1.0\n",
       "99  3.319729   12.761634  1.0\n",
       "\n",
       "[100 rows x 3 columns]"
      ]
     },
     "execution_count": 261,
     "metadata": {},
     "output_type": "execute_result"
    }
   ],
   "source": [
    "test_data = pd.read_csv(r'D:\\NEU\\Năm 3\\ML\\Data\\ds1_valid.csv')\n",
    "test_data"
   ]
  },
  {
   "cell_type": "code",
   "execution_count": 262,
   "id": "54ad7772",
   "metadata": {},
   "outputs": [],
   "source": [
    "X_test = test_data[['x_1','x_2']].values\n",
    "y_test = test_data['y'].values.reshape((-1, 1))"
   ]
  },
  {
   "cell_type": "code",
   "execution_count": 263,
   "id": "2b897222",
   "metadata": {},
   "outputs": [
    {
     "name": "stderr",
     "output_type": "stream",
     "text": [
      "C:\\Users\\Hải Nam\\AppData\\Local\\Temp\\ipykernel_2648\\1983158992.py:12: RuntimeWarning: overflow encountered in exp\n",
      "  return 1 / (1 + np.exp(-x))\n"
     ]
    }
   ],
   "source": [
    "test_model = LogisticRegression()\n",
    "test_model.fit(X_test,y_test)"
   ]
  },
  {
   "cell_type": "code",
   "execution_count": 267,
   "id": "d31be726",
   "metadata": {},
   "outputs": [
    {
     "name": "stderr",
     "output_type": "stream",
     "text": [
      "C:\\Users\\Hải Nam\\AppData\\Local\\Temp\\ipykernel_2648\\1983158992.py:12: RuntimeWarning: overflow encountered in exp\n",
      "  return 1 / (1 + np.exp(-x))\n"
     ]
    },
    {
     "data": {
      "text/plain": [
       "0.82"
      ]
     },
     "execution_count": 267,
     "metadata": {},
     "output_type": "execute_result"
    }
   ],
   "source": [
    "test_model.accuracy(X_test,y_test)"
   ]
  },
  {
   "cell_type": "code",
   "execution_count": 268,
   "id": "8077afdf",
   "metadata": {},
   "outputs": [
    {
     "name": "stdout",
     "output_type": "stream",
     "text": [
      "Accuracy on test set by our model: 82.0000%\n"
     ]
    },
    {
     "name": "stderr",
     "output_type": "stream",
     "text": [
      "C:\\Users\\Hải Nam\\AppData\\Local\\Temp\\ipykernel_2648\\1983158992.py:12: RuntimeWarning: overflow encountered in exp\n",
      "  return 1 / (1 + np.exp(-x))\n"
     ]
    },
    {
     "data": {
      "image/png": "[encoded data removed]",
      "text/plain": [
       "<Figure size 640x480 with 1 Axes>"
      ]
     },
     "metadata": {},
     "output_type": "display_data"
    }
   ],
   "source": [
    "# Create a mesh grid to cover the feature space\n",
    "x_min, x_max = X_test[:, 0].min() - 1, X_test[:, 0].max() + 1\n",
    "y_min, y_max = X_test[:, 1].min() - 1, X_test[:, 1].max() + 1\n",
    "xx, yy = np.meshgrid(np.arange(x_min, x_max, 0.1), np.arange(y_min, y_max, 0.1))\n",
    "\n",
    "# Use the trained model to make predictions on the mesh grid\n",
    "Z = model.predict(np.c_[xx.ravel(), yy.ravel()])\n",
    "Z = Z.reshape(xx.shape)\n",
    "\n",
    "# Plot the decision boundary as a filled contour plot\n",
    "plt.contourf(xx, yy, Z, cmap=plt.cm.RdYlBu, alpha=0.6)\n",
    "\n",
    "# Calculate accuracy using the accuracy_score method\n",
    "accuracy = test_model.accuracy(X_test,y_test)\n",
    "print(\"Accuracy on test set by our model: {:.4f}%\".format(accuracy * 100))\n",
    "\n",
    "# Visualize the decision boundary\n",
    "plt.scatter(X_test[:, 0], X_test[:, 1], c=test_model.predict(X_test), cmap=plt.cm.RdYlBu, marker='o')\n",
    "plt.xlabel(\"x_1\")\n",
    "plt.ylabel(\"x_2\")\n",
    "plt.title(\"Logistic Regression Decision Boundary\")\n",
    "plt.show()\n"
   ]
  }
 ],
 "metadata": {
  "kernelspec": {
   "display_name": "Python 3 (ipykernel)",
   "language": "python",
   "name": "python3"
  },
  "language_info": {
   "codemirror_mode": {
    "name": "ipython",
    "version": 3
   },
   "file_extension": ".py",
   "mimetype": "text/x-python",
   "name": "python",
   "nbconvert_exporter": "python",
   "pygments_lexer": "ipython3",
   "version": "3.9.13"
  },
  "toc": {
   "base_numbering": 1,
   "nav_menu": {},
   "number_sections": true,
   "sideBar": true,
   "skip_h1_title": false,
   "title_cell": "Table of Contents",
   "title_sidebar": "Contents",
   "toc_cell": false,
   "toc_position": {},
   "toc_section_display": true,
   "toc_window_display": false
  }
 },
 "nbformat": 4,
 "nbformat_minor": 5
}
